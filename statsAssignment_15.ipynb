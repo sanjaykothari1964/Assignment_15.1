{
 "cells": [
  {
   "cell_type": "code",
   "execution_count": 1,
   "metadata": {},
   "outputs": [],
   "source": [
    "import math"
   ]
  },
  {
   "cell_type": "code",
   "execution_count": 2,
   "metadata": {},
   "outputs": [
    {
     "name": "stdout",
     "output_type": "stream",
     "text": [
      "Standard Deviation: 367.99004062610175\n"
     ]
    }
   ],
   "source": [
    "# Q1. You survey households in your area to find the average rent they are paying. Find the standard deviation from the following data:\n",
    "# $1550, $1700, $900, $850, $1000, $950.\n",
    "\n",
    "# Defining a function to find the mean by dividing the sum of the sample by the no.of elements present\n",
    "def mean(x):\n",
    "    return sum(x) / len(x)\n",
    "\n",
    "# Defining a function to find the variance sum of the squared distances of each term in the distribution from the mean (μ), \n",
    "# divided by the number of terms in the distribution(N) minus 1\n",
    "# Here N-1 is used as  Bessel's correction\n",
    "\n",
    "def variance(x):\n",
    "    n = len(x)\n",
    "    x_bar = mean(x)\n",
    "    return(round(sum((x_i - x_bar)**2 for x_i in x) / (n - 1), 2))\n",
    "\n",
    "\n",
    "# Defining a function to find the standard_deviation that is the square root of the variance\n",
    "def standard_deviation(x):\n",
    "     return(math.sqrt(variance(x)))\n",
    "\n",
    "# Taking the given values as a list\n",
    "Lst = [1550, 1700, 900, 850, 1000, 950]\n",
    "print(\"Standard Deviation:\",standard_deviation(Lst))"
   ]
  },
  {
   "cell_type": "code",
   "execution_count": 3,
   "metadata": {},
   "outputs": [
    {
     "name": "stdout",
     "output_type": "stream",
     "text": [
      "Variance: 6219.9\n"
     ]
    }
   ],
   "source": [
    "# Q2.Find the variance for the following set of data representing trees in California (heights in feet):\n",
    "# 3, 21, 98, 203, 17, 9\n",
    "\n",
    "# Defining a function to find the mean by dividing the sum of the sample by the no.of elements present\n",
    "def mean(x):\n",
    "    return sum(x) / len(x)\n",
    "\n",
    "# Defining a function to find the variance sum of the squared distances of each term in the distribution from the mean (μ), \n",
    "# divided by the number of terms in the distribution(N) minus 1\n",
    "# Here N-1 is used as  Bessel's correction\n",
    "\n",
    "def variance(x):\n",
    "    n = len(x)\n",
    "    x_bar = mean(x)\n",
    "    return(round(sum((x_i - x_bar)**2 for x_i in x) / (n - 1), 2))\n",
    "\n",
    "lst_2 = [3, 21, 98, 203, 17, 9]\n",
    "\n",
    "print(\"Variance:\",variance(lst_2) )"
   ]
  },
  {
   "cell_type": "code",
   "execution_count": 4,
   "metadata": {},
   "outputs": [
    {
     "name": "stdout",
     "output_type": "stream",
     "text": [
      "The probability distribution for a random student :\n",
      " --------------------------------------------------\n",
      "P(X=0)=0.8\n",
      "P(X=1)=0.1\n",
      "P(X=2)=0.07\n",
      "P(X=3)=0.03\n"
     ]
    }
   ],
   "source": [
    "# Q3.In a class on 100 students, 80 students passed in all subjects, 10 failed in one subject, 7 failed in two subjects and 3 failed in three subjects. Find the probability distribution of\n",
    "# the variable for number of subjects a student from the given class has failed in.\n",
    "\n",
    "'''\n",
    "    Taking a random student,\n",
    "    \n",
    "    Total number of students = 100\n",
    "    Probability of failing in 0 subjects = 80/100 = 0.8 (Since 80 students have passed in all the subjects)\n",
    "    Probability of failing in 1 subject  = 10/100 = 0.1  (Given)\n",
    "    Probability of failing in 2 subjects = 7/100  = 0.07 (Given)\n",
    "    Probability of failing in 3 subjects = 3/100  = 0.03 (Given)\n",
    "    \n",
    "    P(X=0) = 0.8\n",
    "    P(X=1) = 0.1\n",
    "    P(X=2) = 0.07\n",
    "    P(X=3) = 0.03\n",
    "'''\n",
    "\n",
    "prob_lst = [0.8,0.1,0.07,0.03]\n",
    "\n",
    "print(\"The probability distribution for a random student :\\n\",\"-\"*50)\n",
    "for i in range(4): \n",
    "    print(\"P(X={0})={1}\".format(i,prob_lst[i]))\n",
    "    \n"
   ]
  }
 ],
 "metadata": {
  "kernelspec": {
   "display_name": "Python 3",
   "language": "python",
   "name": "python3"
  },
  "language_info": {
   "codemirror_mode": {
    "name": "ipython",
    "version": 3
   },
   "file_extension": ".py",
   "mimetype": "text/x-python",
   "name": "python",
   "nbconvert_exporter": "python",
   "pygments_lexer": "ipython3",
   "version": "3.6.5"
  }
 },
 "nbformat": 4,
 "nbformat_minor": 2
}
